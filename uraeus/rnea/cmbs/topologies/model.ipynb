{
 "cells": [
  {
   "cell_type": "code",
   "execution_count": 1,
   "metadata": {},
   "outputs": [
    {
     "ename": "PydanticSchemaGenerationError",
     "evalue": "Unable to generate pydantic-core schema for <class 'numpy.ndarray'>. Set `arbitrary_types_allowed=True` in the model_config to ignore this error or implement `__get_pydantic_core_schema__` on your type to fully support it.\n\nIf you got this error by calling handler(<some type>) within `__get_pydantic_core_schema__` then you likely need to call `handler.generate_schema(<some type>)` since we do not call `__get_pydantic_core_schema__` on `<some type>` otherwise to avoid infinite recursion.\n\nFor further information visit https://errors.pydantic.dev/2.5/u/schema-for-unknown-type",
     "output_type": "error",
     "traceback": [
      "\u001b[0;31m---------------------------------------------------------------------------\u001b[0m",
      "\u001b[0;31mPydanticSchemaGenerationError\u001b[0m             Traceback (most recent call last)",
      "\u001b[1;32m/workspaces/uraeus_rnea/uraeus/rnea/cmbs/topologies/model.ipynb Cell 1\u001b[0m line \u001b[0;36m1\n\u001b[1;32m     <a href='vscode-notebook-cell://dev-container%2B7b227265706f7369746f727950617468223a2268747470733a2f2f6769746875622e636f6d2f6b68616c656467686f62617368792f7572616575735f726e65612e676974222c22766f6c756d654e616d65223a227673632d72656d6f74652d636f6e7461696e657273222c22666f6c646572223a227572616575735f726e6561222c22696e7370656374566f6c756d65223a66616c73657d/workspaces/uraeus_rnea/uraeus/rnea/cmbs/topologies/model.ipynb#W0sdnNjb2RlLXJlbW90ZQ%3D%3D?line=9'>10</a>\u001b[0m \u001b[39mfrom\u001b[39;00m \u001b[39muraeus\u001b[39;00m\u001b[39m.\u001b[39;00m\u001b[39mrnea\u001b[39;00m\u001b[39m.\u001b[39;00m\u001b[39mcmbs\u001b[39;00m\u001b[39m.\u001b[39;00m\u001b[39mtopologies\u001b[39;00m\u001b[39m.\u001b[39;00m\u001b[39mgraphs\u001b[39;00m \u001b[39mimport\u001b[39;00m AbstractTopologyGraph\n\u001b[1;32m     <a href='vscode-notebook-cell://dev-container%2B7b227265706f7369746f727950617468223a2268747470733a2f2f6769746875622e636f6d2f6b68616c656467686f62617368792f7572616575735f726e65612e676974222c22766f6c756d654e616d65223a227673632d72656d6f74652d636f6e7461696e657273222c22666f6c646572223a227572616575735f726e6561222c22696e7370656374566f6c756d65223a66616c73657d/workspaces/uraeus_rnea/uraeus/rnea/cmbs/topologies/model.ipynb#W0sdnNjb2RlLXJlbW90ZQ%3D%3D?line=10'>11</a>\u001b[0m \u001b[39mfrom\u001b[39;00m \u001b[39muraeus\u001b[39;00m\u001b[39m.\u001b[39;00m\u001b[39mrnea\u001b[39;00m\u001b[39m.\u001b[39;00m\u001b[39mcmbs\u001b[39;00m\u001b[39m.\u001b[39;00m\u001b[39mtopologies\u001b[39;00m\u001b[39m.\u001b[39;00m\u001b[39msystems\u001b[39;00m \u001b[39mimport\u001b[39;00m MultiBodyGraph\n\u001b[0;32m---> <a href='vscode-notebook-cell://dev-container%2B7b227265706f7369746f727950617468223a2268747470733a2f2f6769746875622e636f6d2f6b68616c656467686f62617368792f7572616575735f726e65612e676974222c22766f6c756d654e616d65223a227673632d72656d6f74652d636f6e7461696e657273222c22666f6c646572223a227572616575735f726e6561222c22696e7370656374566f6c756d65223a66616c73657d/workspaces/uraeus_rnea/uraeus/rnea/cmbs/topologies/model.ipynb#W0sdnNjb2RlLXJlbW90ZQ%3D%3D?line=12'>13</a>\u001b[0m \u001b[39mimport\u001b[39;00m \u001b[39muraeus\u001b[39;00m\u001b[39m.\u001b[39;00m\u001b[39mrnea\u001b[39;00m\u001b[39m.\u001b[39;00m\u001b[39mcmbs\u001b[39;00m\u001b[39m.\u001b[39;00m\u001b[39mjoints\u001b[39;00m \u001b[39mas\u001b[39;00m \u001b[39mjoints\u001b[39;00m\n",
      "File \u001b[0;32m/workspaces/uraeus_rnea/uraeus/rnea/cmbs/joints.py:93\u001b[0m\n\u001b[1;32m     89\u001b[0m     vel_constraint: VelConstraintCallable \u001b[39m=\u001b[39m \u001b[39mNone\u001b[39;00m\n\u001b[1;32m     90\u001b[0m     acc_constraint: AccConstraintCallable \u001b[39m=\u001b[39m \u001b[39mNone\u001b[39;00m\n\u001b[0;32m---> 93\u001b[0m \u001b[39mclass\u001b[39;49;00m \u001b[39mAbstractJoint\u001b[39;49;00m(BaseModel):\n\u001b[1;32m     94\u001b[0m     nc: ClassVar[\u001b[39mint\u001b[39;49m] \u001b[39m=\u001b[39;49m \u001b[39m0\u001b[39;49m\n\u001b[1;32m     95\u001b[0m     equations: ClassVar[\u001b[39mtuple\u001b[39;49m[AbstractConstraintEquations, \u001b[39m.\u001b[39;49m\u001b[39m.\u001b[39;49m\u001b[39m.\u001b[39;49m]] \u001b[39m=\u001b[39;49m \u001b[39mNone\u001b[39;49;00m\n",
      "File \u001b[0;32m~/.local/lib/python3.12/site-packages/pydantic/_internal/_model_construction.py:182\u001b[0m, in \u001b[0;36mModelMetaclass.__new__\u001b[0;34m(mcs, cls_name, bases, namespace, __pydantic_generic_metadata__, __pydantic_reset_parent_namespace__, _create_model_module, **kwargs)\u001b[0m\n\u001b[1;32m    180\u001b[0m types_namespace \u001b[39m=\u001b[39m get_cls_types_namespace(\u001b[39mcls\u001b[39m, parent_namespace)\n\u001b[1;32m    181\u001b[0m set_model_fields(\u001b[39mcls\u001b[39m, bases, config_wrapper, types_namespace)\n\u001b[0;32m--> 182\u001b[0m complete_model_class(\n\u001b[1;32m    183\u001b[0m     \u001b[39mcls\u001b[39;49m,\n\u001b[1;32m    184\u001b[0m     cls_name,\n\u001b[1;32m    185\u001b[0m     config_wrapper,\n\u001b[1;32m    186\u001b[0m     raise_errors\u001b[39m=\u001b[39;49m\u001b[39mFalse\u001b[39;49;00m,\n\u001b[1;32m    187\u001b[0m     types_namespace\u001b[39m=\u001b[39;49mtypes_namespace,\n\u001b[1;32m    188\u001b[0m     create_model_module\u001b[39m=\u001b[39;49m_create_model_module,\n\u001b[1;32m    189\u001b[0m )\n\u001b[1;32m    190\u001b[0m \u001b[39m# using super(cls, cls) on the next line ensures we only call the parent class's __pydantic_init_subclass__\u001b[39;00m\n\u001b[1;32m    191\u001b[0m \u001b[39m# I believe the `type: ignore` is only necessary because mypy doesn't realize that this code branch is\u001b[39;00m\n\u001b[1;32m    192\u001b[0m \u001b[39m# only hit for _proper_ subclasses of BaseModel\u001b[39;00m\n\u001b[1;32m    193\u001b[0m \u001b[39msuper\u001b[39m(\u001b[39mcls\u001b[39m, \u001b[39mcls\u001b[39m)\u001b[39m.\u001b[39m__pydantic_init_subclass__(\u001b[39m*\u001b[39m\u001b[39m*\u001b[39mkwargs)  \u001b[39m# type: ignore[misc]\u001b[39;00m\n",
      "File \u001b[0;32m~/.local/lib/python3.12/site-packages/pydantic/_internal/_model_construction.py:491\u001b[0m, in \u001b[0;36mcomplete_model_class\u001b[0;34m(cls, cls_name, config_wrapper, raise_errors, types_namespace, create_model_module)\u001b[0m\n\u001b[1;32m    488\u001b[0m     \u001b[39mreturn\u001b[39;00m \u001b[39mFalse\u001b[39;00m\n\u001b[1;32m    490\u001b[0m \u001b[39mtry\u001b[39;00m:\n\u001b[0;32m--> 491\u001b[0m     schema \u001b[39m=\u001b[39m \u001b[39mcls\u001b[39;49m\u001b[39m.\u001b[39;49m__get_pydantic_core_schema__(\u001b[39mcls\u001b[39;49m, handler)\n\u001b[1;32m    492\u001b[0m \u001b[39mexcept\u001b[39;00m PydanticUndefinedAnnotation \u001b[39mas\u001b[39;00m e:\n\u001b[1;32m    493\u001b[0m     \u001b[39mif\u001b[39;00m raise_errors:\n",
      "File \u001b[0;32m~/.local/lib/python3.12/site-packages/pydantic/main.py:578\u001b[0m, in \u001b[0;36mBaseModel.__get_pydantic_core_schema__\u001b[0;34m(cls, _BaseModel__source, _BaseModel__handler)\u001b[0m\n\u001b[1;32m    575\u001b[0m     \u001b[39mif\u001b[39;00m \u001b[39mnot\u001b[39;00m \u001b[39mcls\u001b[39m\u001b[39m.\u001b[39m__pydantic_generic_metadata__[\u001b[39m'\u001b[39m\u001b[39morigin\u001b[39m\u001b[39m'\u001b[39m]:\n\u001b[1;32m    576\u001b[0m         \u001b[39mreturn\u001b[39;00m \u001b[39mcls\u001b[39m\u001b[39m.\u001b[39m__pydantic_core_schema__\n\u001b[0;32m--> 578\u001b[0m \u001b[39mreturn\u001b[39;00m __handler(__source)\n",
      "File \u001b[0;32m~/.local/lib/python3.12/site-packages/pydantic/_internal/_schema_generation_shared.py:82\u001b[0m, in \u001b[0;36mCallbackGetCoreSchemaHandler.__call__\u001b[0;34m(self, _CallbackGetCoreSchemaHandler__source_type)\u001b[0m\n\u001b[1;32m     81\u001b[0m \u001b[39mdef\u001b[39;00m \u001b[39m__call__\u001b[39m(\u001b[39mself\u001b[39m, __source_type: Any) \u001b[39m-\u001b[39m\u001b[39m>\u001b[39m core_schema\u001b[39m.\u001b[39mCoreSchema:\n\u001b[0;32m---> 82\u001b[0m     schema \u001b[39m=\u001b[39m \u001b[39mself\u001b[39;49m\u001b[39m.\u001b[39;49m_handler(__source_type)\n\u001b[1;32m     83\u001b[0m     ref \u001b[39m=\u001b[39m schema\u001b[39m.\u001b[39mget(\u001b[39m'\u001b[39m\u001b[39mref\u001b[39m\u001b[39m'\u001b[39m)\n\u001b[1;32m     84\u001b[0m     \u001b[39mif\u001b[39;00m \u001b[39mself\u001b[39m\u001b[39m.\u001b[39m_ref_mode \u001b[39m==\u001b[39m \u001b[39m'\u001b[39m\u001b[39mto-def\u001b[39m\u001b[39m'\u001b[39m:\n",
      "File \u001b[0;32m~/.local/lib/python3.12/site-packages/pydantic/_internal/_generate_schema.py:468\u001b[0m, in \u001b[0;36mGenerateSchema.generate_schema\u001b[0;34m(self, obj, from_dunder_get_core_schema)\u001b[0m\n\u001b[1;32m    465\u001b[0m         schema \u001b[39m=\u001b[39m from_property\n\u001b[1;32m    467\u001b[0m \u001b[39mif\u001b[39;00m schema \u001b[39mis\u001b[39;00m \u001b[39mNone\u001b[39;00m:\n\u001b[0;32m--> 468\u001b[0m     schema \u001b[39m=\u001b[39m \u001b[39mself\u001b[39;49m\u001b[39m.\u001b[39;49m_generate_schema(obj)\n\u001b[1;32m    470\u001b[0m metadata_js_function \u001b[39m=\u001b[39m _extract_get_pydantic_json_schema(obj, schema)\n\u001b[1;32m    471\u001b[0m \u001b[39mif\u001b[39;00m metadata_js_function \u001b[39mis\u001b[39;00m \u001b[39mnot\u001b[39;00m \u001b[39mNone\u001b[39;00m:\n",
      "File \u001b[0;32m~/.local/lib/python3.12/site-packages/pydantic/_internal/_generate_schema.py:700\u001b[0m, in \u001b[0;36mGenerateSchema._generate_schema\u001b[0;34m(self, obj)\u001b[0m\n\u001b[1;32m    698\u001b[0m needs_apply_discriminated_union \u001b[39m=\u001b[39m \u001b[39mself\u001b[39m\u001b[39m.\u001b[39m_needs_apply_discriminated_union\n\u001b[1;32m    699\u001b[0m \u001b[39mself\u001b[39m\u001b[39m.\u001b[39m_needs_apply_discriminated_union \u001b[39m=\u001b[39m \u001b[39mFalse\u001b[39;00m\n\u001b[0;32m--> 700\u001b[0m schema \u001b[39m=\u001b[39m \u001b[39mself\u001b[39m\u001b[39m.\u001b[39m_post_process_generated_schema(\u001b[39mself\u001b[39;49m\u001b[39m.\u001b[39;49m_generate_schema_inner(obj))\n\u001b[1;32m    701\u001b[0m \u001b[39mself\u001b[39m\u001b[39m.\u001b[39m_has_invalid_schema \u001b[39m=\u001b[39m \u001b[39mself\u001b[39m\u001b[39m.\u001b[39m_has_invalid_schema \u001b[39mor\u001b[39;00m has_invalid_schema\n\u001b[1;32m    702\u001b[0m \u001b[39mself\u001b[39m\u001b[39m.\u001b[39m_needs_apply_discriminated_union \u001b[39m=\u001b[39m \u001b[39mself\u001b[39m\u001b[39m.\u001b[39m_needs_apply_discriminated_union \u001b[39mor\u001b[39;00m needs_apply_discriminated_union\n",
      "File \u001b[0;32m~/.local/lib/python3.12/site-packages/pydantic/_internal/_generate_schema.py:722\u001b[0m, in \u001b[0;36mGenerateSchema._generate_schema_inner\u001b[0;34m(self, obj)\u001b[0m\n\u001b[1;32m    719\u001b[0m \u001b[39mfrom\u001b[39;00m \u001b[39m.\u001b[39;00m\u001b[39m.\u001b[39;00m\u001b[39mmain\u001b[39;00m \u001b[39mimport\u001b[39;00m BaseModel\n\u001b[1;32m    721\u001b[0m \u001b[39mif\u001b[39;00m lenient_issubclass(obj, BaseModel):\n\u001b[0;32m--> 722\u001b[0m     \u001b[39mreturn\u001b[39;00m \u001b[39mself\u001b[39;49m\u001b[39m.\u001b[39;49m_model_schema(obj)\n\u001b[1;32m    724\u001b[0m \u001b[39mif\u001b[39;00m \u001b[39misinstance\u001b[39m(obj, PydanticRecursiveRef):\n\u001b[1;32m    725\u001b[0m     \u001b[39mreturn\u001b[39;00m core_schema\u001b[39m.\u001b[39mdefinition_reference_schema(schema_ref\u001b[39m=\u001b[39mobj\u001b[39m.\u001b[39mtype_ref)\n",
      "File \u001b[0;32m~/.local/lib/python3.12/site-packages/pydantic/_internal/_generate_schema.py:541\u001b[0m, in \u001b[0;36mGenerateSchema._model_schema\u001b[0;34m(self, cls)\u001b[0m\n\u001b[1;32m    529\u001b[0m     model_schema \u001b[39m=\u001b[39m core_schema\u001b[39m.\u001b[39mmodel_schema(\n\u001b[1;32m    530\u001b[0m         \u001b[39mcls\u001b[39m,\n\u001b[1;32m    531\u001b[0m         inner_schema,\n\u001b[0;32m   (...)\u001b[0m\n\u001b[1;32m    537\u001b[0m         metadata\u001b[39m=\u001b[39mmetadata,\n\u001b[1;32m    538\u001b[0m     )\n\u001b[1;32m    539\u001b[0m \u001b[39melse\u001b[39;00m:\n\u001b[1;32m    540\u001b[0m     fields_schema: core_schema\u001b[39m.\u001b[39mCoreSchema \u001b[39m=\u001b[39m core_schema\u001b[39m.\u001b[39mmodel_fields_schema(\n\u001b[0;32m--> 541\u001b[0m         {k: \u001b[39mself\u001b[39;49m\u001b[39m.\u001b[39;49m_generate_md_field_schema(k, v, decorators) \u001b[39mfor\u001b[39;00m k, v \u001b[39min\u001b[39;00m fields\u001b[39m.\u001b[39mitems()},\n\u001b[1;32m    542\u001b[0m         computed_fields\u001b[39m=\u001b[39m[\n\u001b[1;32m    543\u001b[0m             \u001b[39mself\u001b[39m\u001b[39m.\u001b[39m_computed_field_schema(d, decorators\u001b[39m.\u001b[39mfield_serializers)\n\u001b[1;32m    544\u001b[0m             \u001b[39mfor\u001b[39;00m d \u001b[39min\u001b[39;00m computed_fields\u001b[39m.\u001b[39mvalues()\n\u001b[1;32m    545\u001b[0m         ],\n\u001b[1;32m    546\u001b[0m         extras_schema\u001b[39m=\u001b[39mextras_schema,\n\u001b[1;32m    547\u001b[0m         model_name\u001b[39m=\u001b[39m\u001b[39mcls\u001b[39m\u001b[39m.\u001b[39m\u001b[39m__name__\u001b[39m,\n\u001b[1;32m    548\u001b[0m     )\n\u001b[1;32m    549\u001b[0m     inner_schema \u001b[39m=\u001b[39m apply_validators(fields_schema, decorators\u001b[39m.\u001b[39mroot_validators\u001b[39m.\u001b[39mvalues(), \u001b[39mNone\u001b[39;00m)\n\u001b[1;32m    550\u001b[0m     new_inner_schema \u001b[39m=\u001b[39m define_expected_missing_refs(inner_schema, recursively_defined_type_refs())\n",
      "File \u001b[0;32m~/.local/lib/python3.12/site-packages/pydantic/_internal/_generate_schema.py:886\u001b[0m, in \u001b[0;36mGenerateSchema._generate_md_field_schema\u001b[0;34m(self, name, field_info, decorators)\u001b[0m\n\u001b[1;32m    879\u001b[0m \u001b[39mdef\u001b[39;00m \u001b[39m_generate_md_field_schema\u001b[39m(\n\u001b[1;32m    880\u001b[0m     \u001b[39mself\u001b[39m,\n\u001b[1;32m    881\u001b[0m     name: \u001b[39mstr\u001b[39m,\n\u001b[1;32m    882\u001b[0m     field_info: FieldInfo,\n\u001b[1;32m    883\u001b[0m     decorators: DecoratorInfos,\n\u001b[1;32m    884\u001b[0m ) \u001b[39m-\u001b[39m\u001b[39m>\u001b[39m core_schema\u001b[39m.\u001b[39mModelField:\n\u001b[1;32m    885\u001b[0m \u001b[39m    \u001b[39m\u001b[39m\"\"\"Prepare a ModelField to represent a model field.\"\"\"\u001b[39;00m\n\u001b[0;32m--> 886\u001b[0m     common_field \u001b[39m=\u001b[39m \u001b[39mself\u001b[39;49m\u001b[39m.\u001b[39;49m_common_field_schema(name, field_info, decorators)\n\u001b[1;32m    887\u001b[0m     \u001b[39mreturn\u001b[39;00m core_schema\u001b[39m.\u001b[39mmodel_field(\n\u001b[1;32m    888\u001b[0m         common_field[\u001b[39m'\u001b[39m\u001b[39mschema\u001b[39m\u001b[39m'\u001b[39m],\n\u001b[1;32m    889\u001b[0m         serialization_exclude\u001b[39m=\u001b[39mcommon_field[\u001b[39m'\u001b[39m\u001b[39mserialization_exclude\u001b[39m\u001b[39m'\u001b[39m],\n\u001b[0;32m   (...)\u001b[0m\n\u001b[1;32m    893\u001b[0m         metadata\u001b[39m=\u001b[39mcommon_field[\u001b[39m'\u001b[39m\u001b[39mmetadata\u001b[39m\u001b[39m'\u001b[39m],\n\u001b[1;32m    894\u001b[0m     )\n",
      "File \u001b[0;32m~/.local/lib/python3.12/site-packages/pydantic/_internal/_generate_schema.py:951\u001b[0m, in \u001b[0;36mGenerateSchema._common_field_schema\u001b[0;34m(self, name, field_info, decorators)\u001b[0m\n\u001b[1;32m    949\u001b[0m         schema \u001b[39m=\u001b[39m \u001b[39mself\u001b[39m\u001b[39m.\u001b[39m_apply_annotations(source_type, annotations, transform_inner_schema\u001b[39m=\u001b[39mset_discriminator)\n\u001b[1;32m    950\u001b[0m     \u001b[39melse\u001b[39;00m:\n\u001b[0;32m--> 951\u001b[0m         schema \u001b[39m=\u001b[39m \u001b[39mself\u001b[39;49m\u001b[39m.\u001b[39;49m_apply_annotations(\n\u001b[1;32m    952\u001b[0m             source_type,\n\u001b[1;32m    953\u001b[0m             annotations,\n\u001b[1;32m    954\u001b[0m         )\n\u001b[1;32m    956\u001b[0m \u001b[39m# This V1 compatibility shim should eventually be removed\u001b[39;00m\n\u001b[1;32m    957\u001b[0m \u001b[39m# push down any `each_item=True` validators\u001b[39;00m\n\u001b[1;32m    958\u001b[0m \u001b[39m# note that this won't work for any Annotated types that get wrapped by a function validator\u001b[39;00m\n\u001b[1;32m    959\u001b[0m \u001b[39m# but that's okay because that didn't exist in V1\u001b[39;00m\n\u001b[1;32m    960\u001b[0m this_field_validators \u001b[39m=\u001b[39m filter_field_decorator_info_by_field(decorators\u001b[39m.\u001b[39mvalidators\u001b[39m.\u001b[39mvalues(), name)\n",
      "File \u001b[0;32m~/.local/lib/python3.12/site-packages/pydantic/_internal/_generate_schema.py:1654\u001b[0m, in \u001b[0;36mGenerateSchema._apply_annotations\u001b[0;34m(self, source_type, annotations, transform_inner_schema)\u001b[0m\n\u001b[1;32m   1649\u001b[0m         \u001b[39mcontinue\u001b[39;00m\n\u001b[1;32m   1650\u001b[0m     get_inner_schema \u001b[39m=\u001b[39m \u001b[39mself\u001b[39m\u001b[39m.\u001b[39m_get_wrapped_inner_schema(\n\u001b[1;32m   1651\u001b[0m         get_inner_schema, annotation, pydantic_js_annotation_functions\n\u001b[1;32m   1652\u001b[0m     )\n\u001b[0;32m-> 1654\u001b[0m schema \u001b[39m=\u001b[39m get_inner_schema(source_type)\n\u001b[1;32m   1655\u001b[0m \u001b[39mif\u001b[39;00m pydantic_js_annotation_functions:\n\u001b[1;32m   1656\u001b[0m     metadata \u001b[39m=\u001b[39m CoreMetadataHandler(schema)\u001b[39m.\u001b[39mmetadata\n",
      "File \u001b[0;32m~/.local/lib/python3.12/site-packages/pydantic/_internal/_schema_generation_shared.py:82\u001b[0m, in \u001b[0;36mCallbackGetCoreSchemaHandler.__call__\u001b[0;34m(self, _CallbackGetCoreSchemaHandler__source_type)\u001b[0m\n\u001b[1;32m     81\u001b[0m \u001b[39mdef\u001b[39;00m \u001b[39m__call__\u001b[39m(\u001b[39mself\u001b[39m, __source_type: Any) \u001b[39m-\u001b[39m\u001b[39m>\u001b[39m core_schema\u001b[39m.\u001b[39mCoreSchema:\n\u001b[0;32m---> 82\u001b[0m     schema \u001b[39m=\u001b[39m \u001b[39mself\u001b[39;49m\u001b[39m.\u001b[39;49m_handler(__source_type)\n\u001b[1;32m     83\u001b[0m     ref \u001b[39m=\u001b[39m schema\u001b[39m.\u001b[39mget(\u001b[39m'\u001b[39m\u001b[39mref\u001b[39m\u001b[39m'\u001b[39m)\n\u001b[1;32m     84\u001b[0m     \u001b[39mif\u001b[39;00m \u001b[39mself\u001b[39m\u001b[39m.\u001b[39m_ref_mode \u001b[39m==\u001b[39m \u001b[39m'\u001b[39m\u001b[39mto-def\u001b[39m\u001b[39m'\u001b[39m:\n",
      "File \u001b[0;32m~/.local/lib/python3.12/site-packages/pydantic/_internal/_generate_schema.py:1635\u001b[0m, in \u001b[0;36mGenerateSchema._apply_annotations.<locals>.inner_handler\u001b[0;34m(obj)\u001b[0m\n\u001b[1;32m   1633\u001b[0m from_property \u001b[39m=\u001b[39m \u001b[39mself\u001b[39m\u001b[39m.\u001b[39m_generate_schema_from_property(obj, obj)\n\u001b[1;32m   1634\u001b[0m \u001b[39mif\u001b[39;00m from_property \u001b[39mis\u001b[39;00m \u001b[39mNone\u001b[39;00m:\n\u001b[0;32m-> 1635\u001b[0m     schema \u001b[39m=\u001b[39m \u001b[39mself\u001b[39;49m\u001b[39m.\u001b[39;49m_generate_schema(obj)\n\u001b[1;32m   1636\u001b[0m \u001b[39melse\u001b[39;00m:\n\u001b[1;32m   1637\u001b[0m     schema \u001b[39m=\u001b[39m from_property\n",
      "File \u001b[0;32m~/.local/lib/python3.12/site-packages/pydantic/_internal/_generate_schema.py:700\u001b[0m, in \u001b[0;36mGenerateSchema._generate_schema\u001b[0;34m(self, obj)\u001b[0m\n\u001b[1;32m    698\u001b[0m needs_apply_discriminated_union \u001b[39m=\u001b[39m \u001b[39mself\u001b[39m\u001b[39m.\u001b[39m_needs_apply_discriminated_union\n\u001b[1;32m    699\u001b[0m \u001b[39mself\u001b[39m\u001b[39m.\u001b[39m_needs_apply_discriminated_union \u001b[39m=\u001b[39m \u001b[39mFalse\u001b[39;00m\n\u001b[0;32m--> 700\u001b[0m schema \u001b[39m=\u001b[39m \u001b[39mself\u001b[39m\u001b[39m.\u001b[39m_post_process_generated_schema(\u001b[39mself\u001b[39;49m\u001b[39m.\u001b[39;49m_generate_schema_inner(obj))\n\u001b[1;32m    701\u001b[0m \u001b[39mself\u001b[39m\u001b[39m.\u001b[39m_has_invalid_schema \u001b[39m=\u001b[39m \u001b[39mself\u001b[39m\u001b[39m.\u001b[39m_has_invalid_schema \u001b[39mor\u001b[39;00m has_invalid_schema\n\u001b[1;32m    702\u001b[0m \u001b[39mself\u001b[39m\u001b[39m.\u001b[39m_needs_apply_discriminated_union \u001b[39m=\u001b[39m \u001b[39mself\u001b[39m\u001b[39m.\u001b[39m_needs_apply_discriminated_union \u001b[39mor\u001b[39;00m needs_apply_discriminated_union\n",
      "File \u001b[0;32m~/.local/lib/python3.12/site-packages/pydantic/_internal/_generate_schema.py:727\u001b[0m, in \u001b[0;36mGenerateSchema._generate_schema_inner\u001b[0;34m(self, obj)\u001b[0m\n\u001b[1;32m    724\u001b[0m \u001b[39mif\u001b[39;00m \u001b[39misinstance\u001b[39m(obj, PydanticRecursiveRef):\n\u001b[1;32m    725\u001b[0m     \u001b[39mreturn\u001b[39;00m core_schema\u001b[39m.\u001b[39mdefinition_reference_schema(schema_ref\u001b[39m=\u001b[39mobj\u001b[39m.\u001b[39mtype_ref)\n\u001b[0;32m--> 727\u001b[0m \u001b[39mreturn\u001b[39;00m \u001b[39mself\u001b[39;49m\u001b[39m.\u001b[39;49mmatch_type(obj)\n",
      "File \u001b[0;32m~/.local/lib/python3.12/site-packages/pydantic/_internal/_generate_schema.py:777\u001b[0m, in \u001b[0;36mGenerateSchema.match_type\u001b[0;34m(self, obj)\u001b[0m\n\u001b[1;32m    775\u001b[0m     \u001b[39mreturn\u001b[39;00m \u001b[39mself\u001b[39m\u001b[39m.\u001b[39m_typed_dict_schema(obj, \u001b[39mNone\u001b[39;00m)\n\u001b[1;32m    776\u001b[0m \u001b[39melif\u001b[39;00m _typing_extra\u001b[39m.\u001b[39mis_namedtuple(obj):\n\u001b[0;32m--> 777\u001b[0m     \u001b[39mreturn\u001b[39;00m \u001b[39mself\u001b[39;49m\u001b[39m.\u001b[39;49m_namedtuple_schema(obj, \u001b[39mNone\u001b[39;49;00m)\n\u001b[1;32m    778\u001b[0m \u001b[39melif\u001b[39;00m _typing_extra\u001b[39m.\u001b[39mis_new_type(obj):\n\u001b[1;32m    779\u001b[0m     \u001b[39m# NewType, can't use isinstance because it fails <3.7\u001b[39;00m\n\u001b[1;32m    780\u001b[0m     \u001b[39mreturn\u001b[39;00m \u001b[39mself\u001b[39m\u001b[39m.\u001b[39mgenerate_schema(obj\u001b[39m.\u001b[39m__supertype__)\n",
      "File \u001b[0;32m~/.local/lib/python3.12/site-packages/pydantic/_internal/_generate_schema.py:1204\u001b[0m, in \u001b[0;36mGenerateSchema._namedtuple_schema\u001b[0;34m(self, namedtuple_cls, origin)\u001b[0m\n\u001b[1;32m   1196\u001b[0m \u001b[39mif\u001b[39;00m typevars_map:\n\u001b[1;32m   1197\u001b[0m     annotations \u001b[39m=\u001b[39m {\n\u001b[1;32m   1198\u001b[0m         field_name: replace_types(annotation, typevars_map)\n\u001b[1;32m   1199\u001b[0m         \u001b[39mfor\u001b[39;00m field_name, annotation \u001b[39min\u001b[39;00m annotations\u001b[39m.\u001b[39mitems()\n\u001b[1;32m   1200\u001b[0m     }\n\u001b[1;32m   1202\u001b[0m arguments_schema \u001b[39m=\u001b[39m core_schema\u001b[39m.\u001b[39marguments_schema(\n\u001b[1;32m   1203\u001b[0m     [\n\u001b[0;32m-> 1204\u001b[0m         \u001b[39mself\u001b[39;49m\u001b[39m.\u001b[39;49m_generate_parameter_schema(\n\u001b[1;32m   1205\u001b[0m             field_name, annotation, default\u001b[39m=\u001b[39;49mnamedtuple_cls\u001b[39m.\u001b[39;49m_field_defaults\u001b[39m.\u001b[39;49mget(field_name, Parameter\u001b[39m.\u001b[39;49mempty)\n\u001b[1;32m   1206\u001b[0m         )\n\u001b[1;32m   1207\u001b[0m         \u001b[39mfor\u001b[39;00m field_name, annotation \u001b[39min\u001b[39;00m annotations\u001b[39m.\u001b[39mitems()\n\u001b[1;32m   1208\u001b[0m     ],\n\u001b[1;32m   1209\u001b[0m     metadata\u001b[39m=\u001b[39mbuild_metadata_dict(js_prefer_positional_arguments\u001b[39m=\u001b[39m\u001b[39mTrue\u001b[39;00m),\n\u001b[1;32m   1210\u001b[0m )\n\u001b[1;32m   1211\u001b[0m \u001b[39mreturn\u001b[39;00m core_schema\u001b[39m.\u001b[39mcall_schema(arguments_schema, namedtuple_cls, ref\u001b[39m=\u001b[39mnamedtuple_ref)\n",
      "File \u001b[0;32m~/.local/lib/python3.12/site-packages/pydantic/_internal/_generate_schema.py:1230\u001b[0m, in \u001b[0;36mGenerateSchema._generate_parameter_schema\u001b[0;34m(self, name, annotation, default, mode)\u001b[0m\n\u001b[1;32m   1228\u001b[0m source_type, annotations \u001b[39m=\u001b[39m field\u001b[39m.\u001b[39mannotation, field\u001b[39m.\u001b[39mmetadata\n\u001b[1;32m   1229\u001b[0m \u001b[39mwith\u001b[39;00m \u001b[39mself\u001b[39m\u001b[39m.\u001b[39mfield_name_stack\u001b[39m.\u001b[39mpush(name):\n\u001b[0;32m-> 1230\u001b[0m     schema \u001b[39m=\u001b[39m \u001b[39mself\u001b[39;49m\u001b[39m.\u001b[39;49m_apply_annotations(source_type, annotations)\n\u001b[1;32m   1232\u001b[0m \u001b[39mif\u001b[39;00m \u001b[39mnot\u001b[39;00m field\u001b[39m.\u001b[39mis_required():\n\u001b[1;32m   1233\u001b[0m     schema \u001b[39m=\u001b[39m wrap_default(field, schema)\n",
      "File \u001b[0;32m~/.local/lib/python3.12/site-packages/pydantic/_internal/_generate_schema.py:1654\u001b[0m, in \u001b[0;36mGenerateSchema._apply_annotations\u001b[0;34m(self, source_type, annotations, transform_inner_schema)\u001b[0m\n\u001b[1;32m   1649\u001b[0m         \u001b[39mcontinue\u001b[39;00m\n\u001b[1;32m   1650\u001b[0m     get_inner_schema \u001b[39m=\u001b[39m \u001b[39mself\u001b[39m\u001b[39m.\u001b[39m_get_wrapped_inner_schema(\n\u001b[1;32m   1651\u001b[0m         get_inner_schema, annotation, pydantic_js_annotation_functions\n\u001b[1;32m   1652\u001b[0m     )\n\u001b[0;32m-> 1654\u001b[0m schema \u001b[39m=\u001b[39m get_inner_schema(source_type)\n\u001b[1;32m   1655\u001b[0m \u001b[39mif\u001b[39;00m pydantic_js_annotation_functions:\n\u001b[1;32m   1656\u001b[0m     metadata \u001b[39m=\u001b[39m CoreMetadataHandler(schema)\u001b[39m.\u001b[39mmetadata\n",
      "File \u001b[0;32m~/.local/lib/python3.12/site-packages/pydantic/_internal/_schema_generation_shared.py:82\u001b[0m, in \u001b[0;36mCallbackGetCoreSchemaHandler.__call__\u001b[0;34m(self, _CallbackGetCoreSchemaHandler__source_type)\u001b[0m\n\u001b[1;32m     81\u001b[0m \u001b[39mdef\u001b[39;00m \u001b[39m__call__\u001b[39m(\u001b[39mself\u001b[39m, __source_type: Any) \u001b[39m-\u001b[39m\u001b[39m>\u001b[39m core_schema\u001b[39m.\u001b[39mCoreSchema:\n\u001b[0;32m---> 82\u001b[0m     schema \u001b[39m=\u001b[39m \u001b[39mself\u001b[39;49m\u001b[39m.\u001b[39;49m_handler(__source_type)\n\u001b[1;32m     83\u001b[0m     ref \u001b[39m=\u001b[39m schema\u001b[39m.\u001b[39mget(\u001b[39m'\u001b[39m\u001b[39mref\u001b[39m\u001b[39m'\u001b[39m)\n\u001b[1;32m     84\u001b[0m     \u001b[39mif\u001b[39;00m \u001b[39mself\u001b[39m\u001b[39m.\u001b[39m_ref_mode \u001b[39m==\u001b[39m \u001b[39m'\u001b[39m\u001b[39mto-def\u001b[39m\u001b[39m'\u001b[39m:\n",
      "File \u001b[0;32m~/.local/lib/python3.12/site-packages/pydantic/_internal/_generate_schema.py:1635\u001b[0m, in \u001b[0;36mGenerateSchema._apply_annotations.<locals>.inner_handler\u001b[0;34m(obj)\u001b[0m\n\u001b[1;32m   1633\u001b[0m from_property \u001b[39m=\u001b[39m \u001b[39mself\u001b[39m\u001b[39m.\u001b[39m_generate_schema_from_property(obj, obj)\n\u001b[1;32m   1634\u001b[0m \u001b[39mif\u001b[39;00m from_property \u001b[39mis\u001b[39;00m \u001b[39mNone\u001b[39;00m:\n\u001b[0;32m-> 1635\u001b[0m     schema \u001b[39m=\u001b[39m \u001b[39mself\u001b[39;49m\u001b[39m.\u001b[39;49m_generate_schema(obj)\n\u001b[1;32m   1636\u001b[0m \u001b[39melse\u001b[39;00m:\n\u001b[1;32m   1637\u001b[0m     schema \u001b[39m=\u001b[39m from_property\n",
      "File \u001b[0;32m~/.local/lib/python3.12/site-packages/pydantic/_internal/_generate_schema.py:700\u001b[0m, in \u001b[0;36mGenerateSchema._generate_schema\u001b[0;34m(self, obj)\u001b[0m\n\u001b[1;32m    698\u001b[0m needs_apply_discriminated_union \u001b[39m=\u001b[39m \u001b[39mself\u001b[39m\u001b[39m.\u001b[39m_needs_apply_discriminated_union\n\u001b[1;32m    699\u001b[0m \u001b[39mself\u001b[39m\u001b[39m.\u001b[39m_needs_apply_discriminated_union \u001b[39m=\u001b[39m \u001b[39mFalse\u001b[39;00m\n\u001b[0;32m--> 700\u001b[0m schema \u001b[39m=\u001b[39m \u001b[39mself\u001b[39m\u001b[39m.\u001b[39m_post_process_generated_schema(\u001b[39mself\u001b[39;49m\u001b[39m.\u001b[39;49m_generate_schema_inner(obj))\n\u001b[1;32m    701\u001b[0m \u001b[39mself\u001b[39m\u001b[39m.\u001b[39m_has_invalid_schema \u001b[39m=\u001b[39m \u001b[39mself\u001b[39m\u001b[39m.\u001b[39m_has_invalid_schema \u001b[39mor\u001b[39;00m has_invalid_schema\n\u001b[1;32m    702\u001b[0m \u001b[39mself\u001b[39m\u001b[39m.\u001b[39m_needs_apply_discriminated_union \u001b[39m=\u001b[39m \u001b[39mself\u001b[39m\u001b[39m.\u001b[39m_needs_apply_discriminated_union \u001b[39mor\u001b[39;00m needs_apply_discriminated_union\n",
      "File \u001b[0;32m~/.local/lib/python3.12/site-packages/pydantic/_internal/_generate_schema.py:727\u001b[0m, in \u001b[0;36mGenerateSchema._generate_schema_inner\u001b[0;34m(self, obj)\u001b[0m\n\u001b[1;32m    724\u001b[0m \u001b[39mif\u001b[39;00m \u001b[39misinstance\u001b[39m(obj, PydanticRecursiveRef):\n\u001b[1;32m    725\u001b[0m     \u001b[39mreturn\u001b[39;00m core_schema\u001b[39m.\u001b[39mdefinition_reference_schema(schema_ref\u001b[39m=\u001b[39mobj\u001b[39m.\u001b[39mtype_ref)\n\u001b[0;32m--> 727\u001b[0m \u001b[39mreturn\u001b[39;00m \u001b[39mself\u001b[39;49m\u001b[39m.\u001b[39;49mmatch_type(obj)\n",
      "File \u001b[0;32m~/.local/lib/python3.12/site-packages/pydantic/_internal/_generate_schema.py:814\u001b[0m, in \u001b[0;36mGenerateSchema.match_type\u001b[0;34m(self, obj)\u001b[0m\n\u001b[1;32m    812\u001b[0m \u001b[39mif\u001b[39;00m \u001b[39mself\u001b[39m\u001b[39m.\u001b[39m_arbitrary_types:\n\u001b[1;32m    813\u001b[0m     \u001b[39mreturn\u001b[39;00m \u001b[39mself\u001b[39m\u001b[39m.\u001b[39m_arbitrary_type_schema(obj)\n\u001b[0;32m--> 814\u001b[0m \u001b[39mreturn\u001b[39;00m \u001b[39mself\u001b[39;49m\u001b[39m.\u001b[39;49m_unknown_type_schema(obj)\n",
      "File \u001b[0;32m~/.local/lib/python3.12/site-packages/pydantic/_internal/_generate_schema.py:366\u001b[0m, in \u001b[0;36mGenerateSchema._unknown_type_schema\u001b[0;34m(self, obj)\u001b[0m\n\u001b[1;32m    365\u001b[0m \u001b[39mdef\u001b[39;00m \u001b[39m_unknown_type_schema\u001b[39m(\u001b[39mself\u001b[39m, obj: Any) \u001b[39m-\u001b[39m\u001b[39m>\u001b[39m CoreSchema:\n\u001b[0;32m--> 366\u001b[0m     \u001b[39mraise\u001b[39;00m PydanticSchemaGenerationError(\n\u001b[1;32m    367\u001b[0m         \u001b[39mf\u001b[39m\u001b[39m'\u001b[39m\u001b[39mUnable to generate pydantic-core schema for \u001b[39m\u001b[39m{\u001b[39;00mobj\u001b[39m!r}\u001b[39;00m\u001b[39m. \u001b[39m\u001b[39m'\u001b[39m\n\u001b[1;32m    368\u001b[0m         \u001b[39m'\u001b[39m\u001b[39mSet `arbitrary_types_allowed=True` in the model_config to ignore this error\u001b[39m\u001b[39m'\u001b[39m\n\u001b[1;32m    369\u001b[0m         \u001b[39m'\u001b[39m\u001b[39m or implement `__get_pydantic_core_schema__` on your type to fully support it.\u001b[39m\u001b[39m'\u001b[39m\n\u001b[1;32m    370\u001b[0m         \u001b[39m'\u001b[39m\u001b[39m\\n\u001b[39;00m\u001b[39m\\n\u001b[39;00m\u001b[39mIf you got this error by calling handler(<some type>) within\u001b[39m\u001b[39m'\u001b[39m\n\u001b[1;32m    371\u001b[0m         \u001b[39m'\u001b[39m\u001b[39m `__get_pydantic_core_schema__` then you likely need to call\u001b[39m\u001b[39m'\u001b[39m\n\u001b[1;32m    372\u001b[0m         \u001b[39m'\u001b[39m\u001b[39m `handler.generate_schema(<some type>)` since we do not call\u001b[39m\u001b[39m'\u001b[39m\n\u001b[1;32m    373\u001b[0m         \u001b[39m'\u001b[39m\u001b[39m `__get_pydantic_core_schema__` on `<some type>` otherwise to avoid infinite recursion.\u001b[39m\u001b[39m'\u001b[39m\n\u001b[1;32m    374\u001b[0m     )\n",
      "\u001b[0;31mPydanticSchemaGenerationError\u001b[0m: Unable to generate pydantic-core schema for <class 'numpy.ndarray'>. Set `arbitrary_types_allowed=True` in the model_config to ignore this error or implement `__get_pydantic_core_schema__` on your type to fully support it.\n\nIf you got this error by calling handler(<some type>) within `__get_pydantic_core_schema__` then you likely need to call `handler.generate_schema(<some type>)` since we do not call `__get_pydantic_core_schema__` on `<some type>` otherwise to avoid infinite recursion.\n\nFor further information visit https://errors.pydantic.dev/2.5/u/schema-for-unknown-type"
     ]
    }
   ],
   "source": [
    "import itertools\n",
    "import functools\n",
    "from typing import Callable, Union, Any, Iterator\n",
    "\n",
    "from pydantic import BaseModel, dataclasses\n",
    "\n",
    "import networkx as nx\n",
    "import matplotlib.pyplot as plt\n",
    "\n",
    "from uraeus.rnea.cmbs.topologies.graphs import AbstractTopologyGraph\n",
    "from uraeus.rnea.cmbs.topologies.systems import MultiBodyGraph\n",
    "\n",
    "import uraeus.rnea.cmbs.joints as joints\n"
   ]
  },
  {
   "cell_type": "code",
   "execution_count": 2,
   "metadata": {},
   "outputs": [],
   "source": [
    "graph = MultiBodyGraph(\"dwb\")\n",
    "\n",
    "graph.add_body.Virtual(\"chassis\")\n",
    "graph.add_body.Rigid(\"uca\", mirror=True)\n",
    "graph.add_body.Rigid(\"lca\", mirror=True)\n",
    "graph.add_body.Rigid(\"upright\", mirror=True)\n",
    "graph.add_body.Rigid(\"tie\", mirror=True)\n",
    "graph.add_body.Rigid(\"shock_u\", mirror=True)\n",
    "graph.add_body.Rigid(\"shock_l\", mirror=True)\n",
    "graph.add_body.Rigid(\"push\", mirror=True)\n",
    "graph.add_body.Rigid(\"rocker\", mirror=True)\n",
    "\n",
    "graph.add_joint.Revolute(\"rev_uca\", \"vbs_chassis\", \"rbl_uca\")\n",
    "graph.add_joint.Revolute(\"rev_lca\", \"vbs_chassis\", \"rbl_lca\")\n",
    "graph.add_joint.Spherical(\"sph_uca_upr\", \"rbl_uca\", \"rbl_upright\")\n",
    "graph.add_joint.Spherical(\"sph_lca_upr\", \"rbl_lca\", \"rbl_upright\")\n",
    "graph.add_joint.Spherical(\"sph_tie_upr\", \"rbl_tie\", \"rbl_upright\")\n",
    "graph.add_joint.Universal(\"uni_tie_chassis\", \"rbl_tie\", \"vbs_chassis\")\n",
    "graph.add_joint.Universal(\"uni_shock_chassis\", \"rbl_shock_u\", \"vbs_chassis\")\n",
    "graph.add_joint.Universal(\"uni_shock_rocker\", \"rbl_shock_l\", \"rbl_rocker\")\n",
    "graph.add_joint.Cylindrical(\"cyl_shock\", \"rbl_shock_u\", \"rbl_shock_l\")\n",
    "graph.add_joint.Spherical(\"sph_push_uca\", \"rbl_uca\", \"rbl_push\")\n",
    "graph.add_joint.Universal(\"uni_push_rocker\", \"rbl_rocker\", \"rbl_push\")\n",
    "graph.add_joint.Revolute(\"rev_chassis_rocker\", \"rbl_rocker\", \"vbs_chassis\")\n"
   ]
  },
  {
   "cell_type": "code",
   "execution_count": 4,
   "metadata": {},
   "outputs": [
    {
     "data": {
      "text/plain": [
       "2.0"
      ]
     },
     "execution_count": 4,
     "metadata": {},
     "output_type": "execute_result"
    }
   ],
   "source": [
    "graph.topology.n"
   ]
  },
  {
   "cell_type": "code",
   "execution_count": null,
   "metadata": {},
   "outputs": [],
   "source": [
    "def construct_multibody_system(graph:MultiBodyGraph, type_mapping:dict[str, type[]])"
   ]
  },
  {
   "cell_type": "code",
   "execution_count": 1,
   "metadata": {},
   "outputs": [],
   "source": [
    "from uraeus.rnea.cmbs.spatial_algebra import A1, A\n",
    "import numpy as np"
   ]
  },
  {
   "cell_type": "code",
   "execution_count": 2,
   "metadata": {},
   "outputs": [],
   "source": [
    "qi = np.array([1.0, 1, 1, 1, 0, 0, 0])\n"
   ]
  },
  {
   "cell_type": "code",
   "execution_count": 6,
   "metadata": {},
   "outputs": [
    {
     "name": "stdout",
     "output_type": "stream",
     "text": [
      "4.06 µs ± 28 ns per loop (mean ± std. dev. of 7 runs, 100,000 loops each)\n",
      "4.04 µs ± 33.9 ns per loop (mean ± std. dev. of 7 runs, 100,000 loops each)\n"
     ]
    }
   ],
   "source": [
    "%timeit A(qi[3:])\n",
    "%timeit A1(qi[3:])\n"
   ]
  },
  {
   "cell_type": "code",
   "execution_count": null,
   "metadata": {},
   "outputs": [],
   "source": []
  }
 ],
 "metadata": {
  "kernelspec": {
   "display_name": "Python 3",
   "language": "python",
   "name": "python3"
  },
  "language_info": {
   "codemirror_mode": {
    "name": "ipython",
    "version": 3
   },
   "file_extension": ".py",
   "mimetype": "text/x-python",
   "name": "python",
   "nbconvert_exporter": "python",
   "pygments_lexer": "ipython3",
   "version": "3.12.0"
  }
 },
 "nbformat": 4,
 "nbformat_minor": 2
}
